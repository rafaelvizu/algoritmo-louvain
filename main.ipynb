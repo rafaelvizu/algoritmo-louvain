{
 "cells": [
  {
   "cell_type": "markdown",
   "source": [
    "# Algortimo de Louvain"
   ],
   "metadata": {
    "collapsed": false
   },
   "id": "f0f0bd0a1b7de3b9"
  },
  {
   "cell_type": "markdown",
   "source": [
    "## Definição do grafo"
   ],
   "metadata": {
    "collapsed": false
   },
   "id": "c99f6a8b592fe6a4"
  },
  {
   "cell_type": "code",
   "execution_count": 251,
   "id": "initial_id",
   "metadata": {
    "collapsed": true,
    "ExecuteTime": {
     "end_time": "2023-10-28T17:05:56.186799200Z",
     "start_time": "2023-10-28T17:05:56.158480100Z"
    }
   },
   "outputs": [],
   "source": [
    "class Grafo:\n",
    "    def __init__(self):\n",
    "        self.nos = {}\n",
    "\n",
    "    def adicionar_no(self, id_no):\n",
    "        self.nos[id_no] = {'comunidade': id_no}\n",
    "\n",
    "    def adicionar_aresta(self, no1, no2):\n",
    "        if no1 in self.nos and no2 in self.nos:\n",
    "            self.nos[no1].setdefault('vizinhos', set()).add(no2)\n",
    "            self.nos[no2].setdefault('vizinhos', set()).add(no1)\n",
    "\n",
    "    def mover_no(self, id_no, nova_comunidade):\n",
    "        if id_no in self.nos:\n",
    "            self.nos[id_no]['comunidade'] = nova_comunidade\n",
    "\n",
    "    def algoritmo_de_louvain(self):\n",
    "        for _ in range(10):  # Número arbitrário de iterações\n",
    "            for id_no, no in self.nos.items():\n",
    "                comunidade_atual = no['comunidade']\n",
    "                melhor_comunidade = comunidade_atual\n",
    "                melhor_modularidade = self.calcular_modularidade()\n",
    "\n",
    "                for id_vizinho in no.get('vizinhos', []):\n",
    "                    nova_comunidade = self.nos[id_vizinho]['comunidade']\n",
    "                    self.mover_no(id_no, nova_comunidade)\n",
    "                    modularidade = self.calcular_modularidade()\n",
    "\n",
    "                    if modularidade > melhor_modularidade:\n",
    "                        melhor_comunidade = nova_comunidade\n",
    "                        melhor_modularidade = modularidade\n",
    "\n",
    "                self.mover_no(id_no, melhor_comunidade)\n",
    "\n",
    "    def calcular_modularidade(self):\n",
    "        total_arestas = sum(len(no.get('vizinhos', [])) for no in self.nos.values())\n",
    "        modularidade = 0.0\n",
    "    \n",
    "        for id_no, no in self.nos.items():\n",
    "            for id_vizinho in no.get('vizinhos', []):\n",
    "                if no['comunidade'] == self.nos[id_vizinho]['comunidade']:\n",
    "                    A = 1  # Há uma aresta entre os nós na mesma comunidade\n",
    "                else:\n",
    "                    A = 0  # Não há aresta entre os nós em comunidades diferentes\n",
    "    \n",
    "                k_i = len(no.get('vizinhos', []))\n",
    "                k_j = len(self.nos[id_vizinho].get('vizinhos', []))\n",
    "    \n",
    "                modularidade += A - (k_i * k_j) / (2 * total_arestas)\n",
    "    \n",
    "        return modularidade"
   ]
  },
  {
   "cell_type": "markdown",
   "source": [
    "## Exemplo"
   ],
   "metadata": {
    "collapsed": false
   },
   "id": "4cbbc32c60e90fa8"
  },
  {
   "cell_type": "code",
   "execution_count": 252,
   "outputs": [
    {
     "name": "stdout",
     "output_type": "stream",
     "text": [
      "{'comunidade': 1, 'vizinhos': {2}}\n",
      "{'comunidade': 2, 'vizinhos': {1, 3}}\n",
      "{'comunidade': 3, 'vizinhos': {2}}\n"
     ]
    }
   ],
   "source": [
    "grafo = Grafo()\n",
    "\n",
    "grafo.adicionar_no(1)\n",
    "grafo.adicionar_no(2)\n",
    "grafo.adicionar_no(3)\n",
    "\n",
    "grafo.adicionar_aresta(1, 2)\n",
    "grafo.adicionar_aresta(2, 3)\n",
    "\n",
    "for no in grafo.nos.values():\n",
    "    print(no)"
   ],
   "metadata": {
    "collapsed": false,
    "ExecuteTime": {
     "end_time": "2023-10-28T17:05:56.219770600Z",
     "start_time": "2023-10-28T17:05:56.175847400Z"
    }
   },
   "id": "6df5b994fd97859b"
  },
  {
   "cell_type": "markdown",
   "source": [
    "## Execução"
   ],
   "metadata": {
    "collapsed": false
   },
   "id": "dfe424ccd7ff1ec5"
  },
  {
   "cell_type": "code",
   "execution_count": 253,
   "outputs": [
    {
     "name": "stdout",
     "output_type": "stream",
     "text": [
      "{'comunidade': 2, 'vizinhos': {2}}\n",
      "{'comunidade': 2, 'vizinhos': {1, 3}}\n",
      "{'comunidade': 2, 'vizinhos': {2}}\n"
     ]
    }
   ],
   "source": [
    "grafo.algoritmo_de_louvain()\n",
    "\n",
    "for no in grafo.nos.values():\n",
    "    print(no)"
   ],
   "metadata": {
    "collapsed": false,
    "ExecuteTime": {
     "end_time": "2023-10-28T17:05:56.221769100Z",
     "start_time": "2023-10-28T17:05:56.183799900Z"
    }
   },
   "id": "3ed19b552e9c90ef"
  },
  {
   "cell_type": "markdown",
   "source": [
    "## Modularidade"
   ],
   "metadata": {
    "collapsed": false
   },
   "id": "3d691ac4279f1eed"
  },
  {
   "cell_type": "code",
   "execution_count": 254,
   "outputs": [
    {
     "data": {
      "text/plain": "3.0"
     },
     "execution_count": 254,
     "metadata": {},
     "output_type": "execute_result"
    }
   ],
   "source": [
    "grafo.calcular_modularidade()"
   ],
   "metadata": {
    "collapsed": false,
    "ExecuteTime": {
     "end_time": "2023-10-28T17:05:56.221769100Z",
     "start_time": "2023-10-28T17:05:56.193794900Z"
    }
   },
   "id": "fd14c0664be981af"
  }
 ],
 "metadata": {
  "kernelspec": {
   "display_name": "Python 3",
   "language": "python",
   "name": "python3"
  },
  "language_info": {
   "codemirror_mode": {
    "name": "ipython",
    "version": 2
   },
   "file_extension": ".py",
   "mimetype": "text/x-python",
   "name": "python",
   "nbconvert_exporter": "python",
   "pygments_lexer": "ipython2",
   "version": "2.7.6"
  }
 },
 "nbformat": 4,
 "nbformat_minor": 5
}
